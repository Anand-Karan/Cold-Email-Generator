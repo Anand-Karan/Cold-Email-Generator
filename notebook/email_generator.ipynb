{
 "cells": [
  {
   "cell_type": "code",
   "execution_count": 1,
   "metadata": {},
   "outputs": [],
   "source": [
    "import pandas as pd\n",
    "from keys import groqcloud_key\n",
    "import langchain_groq as lg\n",
    "ChatGroq = lg.ChatGroq"
   ]
  },
  {
   "cell_type": "code",
   "execution_count": 3,
   "metadata": {},
   "outputs": [
    {
     "data": {
      "text/plain": [
       "AIMessage(content='MS Dhoni is a former Indian cricketer and captain of the Indian national team. He is widely regarded as one of the greatest wicket-keeper batsmen in cricket history. Dhoni led India to several major tournament victories, including the 2011 Cricket World Cup and the 2007 ICC World Twenty20.', additional_kwargs={}, response_metadata={'token_usage': {'completion_tokens': 66, 'prompt_tokens': 48, 'total_tokens': 114, 'completion_time': 0.264, 'prompt_time': 0.010146568, 'queue_time': 0.0032997819999999994, 'total_time': 0.274146568}, 'model_name': 'llama-3.1-70b-versatile', 'system_fingerprint': 'fp_9260b4bb2e', 'finish_reason': 'stop', 'logprobs': None}, id='run-0761ea53-7636-4906-b429-5724410b57db-0', usage_metadata={'input_tokens': 48, 'output_tokens': 66, 'total_tokens': 114})"
      ]
     },
     "execution_count": 3,
     "metadata": {},
     "output_type": "execute_result"
    }
   ],
   "source": [
    "llm = ChatGroq(\n",
    "    model=\"llama-3.1-70b-versatile\",\n",
    "    temperature=0,\n",
    "    max_tokens=None,\n",
    "    timeout=None,\n",
    "    max_retries=2,\n",
    "    api_key= groqcloud_key\n",
    ")\n",
    "\n",
    "response = llm.invoke(\"Who is MS Dhoni? Keep it under 50 words.\")\n",
    "response"
   ]
  },
  {
   "cell_type": "code",
   "execution_count": 9,
   "metadata": {},
   "outputs": [
    {
     "name": "stdout",
     "output_type": "stream",
     "text": [
      "Apply for Senior Data Analyst\n",
      "\n",
      "Search JobsSkip navigationSearch JobsNIKE, INC. JOBSContract JobsJoin The Talent CommunityLife @ NikeOverviewBenefitsBrandsOverviewJordanConverseTeamsOverviewAdministrative SupportAdvanced InnovationAir Manufacturing InnovationAviationCommunicationsCustomer ServiceDesignDigitalFacilitiesFinance & AccountingGovernment & Public AffairsHuman ResourcesInsights & AnalyticsLegalManufacturing & EngineeringMarketingMerchandisingPlanningPrivacyProcurementProduct Creation, Development & ManagementRetail CorporateRetail StoresSalesSocial & Community ImpactSports MarketingStrategic PlanningSupply Chain, Distribution & LogisticsSustainabilityTechnologyLocationsOverviewNike WHQNike New York HQEHQ: Hilversum, The NetherlandsELC: Laakdal, BelgiumGreater China HQDiversity, Equity & InclusionOverviewMilitary InclusionDisability InclusionIndigenous InclusionInternshipsData & AnalyticsSenior Data AnalystBeaverton, OregonBecome a Part of the NIKE, Inc. Team\n",
      "NIKE, Inc. does more than outfit the world’s best athletes. It is a place to explore potential, obliterate boundaries and push out the edges of what can be. The company looks for people who can grow, think, dream and create. Its culture thrives by embracing diversity and rewarding imagination. The brand seeks achievers, leaders and visionaries. At NIKE, Inc. it’s about each person bringing skills and passion to a challenging and constantly evolving game.Senior Data Analyst – NIKE, Inc., Beaverton, OR. Design, develop, and program methods, processes, and systems to consolidate and analyze structured/unstructured diverse sources to generate actionable insights and solutions for client services and product enhancement; build products for analysis; interact with product and service teams to identify questions and issues for data analysis and experiments; develop and code software programs, algorithms and automated processes to cleanse, integrate, and evaluate large datasets from multiple disparate sources; identify meaningful insights from large data and metadata sources; interpret and communicate insights and findings from analysis and experiments to product, service, and business managers; lead others to solve complex problems; and anticipate customer needs. Telecommuting is available from anywhere in the U.S., except from AK, AL, AR, DE, HI, IA, ID, IN, KS, KY, LA, MT, ND, NE, NH, NM, NV, OH, OK, RI, SD, VT, WV, and WY. Must have a Master’s degree in Computer Information Systems, Biomedical Engineering, or Information Technology and 2 years of experience in the job offered or in a data-related occupation. Experience must include:  Snowflake  AWS  Data governance  Data Analysis  Data Lake  Data Warehouse  MMX  CBD  Data Modeling  Data Profiling  Databricks  ETL tools  SQL and Python Apply at www.jobs.nike.com (Job# R-42819)#LI-DNINIKE, Inc. is a growth company that looks for team members to grow with it. Nike offers a generous total rewards package, casual work environment, a diverse and inclusive culture, and an electric atmosphere for professional development. No matter the location, or the role, every Nike employee shares one galvanizing mission: To bring inspiration and innovation to every athlete* in the world.NIKE, Inc. is committed to employing a diverse workforce. Qualified applicants will receive consideration without regard to race, color, religion, sex, national origin, age, sexual orientation, gender identity, gender expression, veteran status, or disability.How We HireAt NIKE, Inc. we promise to provide a premium, inclusive, compelling and authentic candidate experience. Delivering on this promise means we allow you to be at your best — and to do that, you need to understand how the hiring process works. Transparency is key.\n",
      "\n",
      "* This overview explains our hiring process for corporate roles. Note there may be different hiring steps involved for non-corporate roles.Start nowBenefitsWhether it’s transportation or financial health, we continually invest in our employees to help them achieve greatness — inside and outside of work. All who work here should be able to realize their full potential.Employee Assistance ProgramEmployee Stock Purchase Plan (ESPP)HolidaysMedical PlanPaid Time Off (PTO)Product DiscountsSabbaticalsLearn moreGIFT CARDSPROMOTIONSFIND A STORESIGN UP FOR EMAILBECOME A MEMBERNIKE JOURNALSEND US FEEDBACKGET HELPGET HELPOrder StatusShipping and DeliveryReturnsPayment OptionsGift Cards BalanceContact UsABOUT NIKEABOUT NIKENewsCareersInvestorsPurposeSustainabilityUnited States© 2024 Nike, Inc. All Rights ReservedGuidesNike AdaptNike Air MaxNike FlyleatherNike ReactSpace HippieNike AirNike FlyEaseNike Free Nike VaporflyNike Air Force 1 Nike FlyknitNike JoyrideNike ZoomXTerms of SaleTerms of UseNike Privacy PolicyYour Privacy ChoicesCA Supply Chain Act\n"
     ]
    }
   ],
   "source": [
    "from langchain_community.document_loaders import WebBaseLoader\n",
    "\n",
    "loader = WebBaseLoader(\"https://jobs.nike.com/job/R-42819\")\n",
    "page_data = loader.load().pop().page_content\n",
    "print(page_data)"
   ]
  },
  {
   "cell_type": "code",
   "execution_count": 48,
   "metadata": {},
   "outputs": [],
   "source": [
    "from langchain_core.prompts import PromptTemplate\n",
    "\n",
    "prompt_extract= PromptTemplate.from_template(\n",
    "    \"\"\"\n",
    "        ### SCRAPED TEXT FROM WEBSITE:\n",
    "        {page_data}\n",
    "        ### INSTRUCTION:\n",
    "        The scraped text is from the career's page of a website.\n",
    "        Your job is to extract the job postings and return them in JSON format containing the \n",
    "        following keys: `role`, `experience`, `skills` and `description`.\n",
    "        Only return the valid JSON.\n",
    "        ### VALID JSON (NO PREAMBLE):    \n",
    "     \"\"\"\n",
    ")"
   ]
  },
  {
   "cell_type": "code",
   "execution_count": 49,
   "metadata": {},
   "outputs": [
    {
     "name": "stdout",
     "output_type": "stream",
     "text": [
      "content='```json\\n{\\n  \"role\": \"Senior Data Analyst\",\\n  \"experience\": \"2 years of experience in the job offered or in a data-related occupation\",\\n  \"skills\": [\\n    \"Snowflake\",\\n    \"AWS\",\\n    \"Data governance\",\\n    \"Data Analysis\",\\n    \"Data Lake\",\\n    \"Data Warehouse\",\\n    \"MMX\",\\n    \"CBD\",\\n    \"Data Modeling\",\\n    \"Data Profiling\",\\n    \"Databricks\",\\n    \"ETL tools\",\\n    \"SQL\",\\n    \"Python\"\\n  ],\\n  \"description\": \"Design, develop, and program methods, processes, and systems to consolidate and analyze structured/unstructured diverse sources to generate actionable insights and solutions for client services and product enhancement; build products for analysis; interact with product and service teams to identify questions and issues for data analysis and experiments; develop and code software programs, algorithms and automated processes to cleanse, integrate, and evaluate large datasets from multiple disparate sources; identify meaningful insights from large data and metadata sources; interpret and communicate insights and findings from analysis and experiments to product, service, and business managers; lead others to solve complex problems; and anticipate customer needs.\"\\n}\\n```' additional_kwargs={} response_metadata={'token_usage': {'completion_tokens': 238, 'prompt_tokens': 1127, 'total_tokens': 1365, 'completion_time': 0.952, 'prompt_time': 0.189447542, 'queue_time': 0.004041316000000017, 'total_time': 1.141447542}, 'model_name': 'llama-3.1-70b-versatile', 'system_fingerprint': 'fp_b6828be2c9', 'finish_reason': 'stop', 'logprobs': None} id='run-39c34c79-ba9a-47d5-9b6a-40078584d8ed-0' usage_metadata={'input_tokens': 1127, 'output_tokens': 238, 'total_tokens': 1365}\n"
     ]
    }
   ],
   "source": [
    "chain_extract = prompt_extract | llm\n",
    "response = chain_extract.invoke(input = page_data)\n",
    "print(response)"
   ]
  },
  {
   "cell_type": "code",
   "execution_count": 50,
   "metadata": {},
   "outputs": [],
   "source": [
    "from langchain_core.output_parsers import JsonOutputParser\n",
    "\n",
    "json_parser = JsonOutputParser()\n",
    "json_res = json_parser.parse(response.content)\n",
    "job = json_res"
   ]
  },
  {
   "cell_type": "code",
   "execution_count": 51,
   "metadata": {},
   "outputs": [
    {
     "data": {
      "text/plain": [
       "{'role': 'Senior Data Analyst',\n",
       " 'experience': '2 years of experience in the job offered or in a data-related occupation',\n",
       " 'skills': ['Snowflake',\n",
       "  'AWS',\n",
       "  'Data governance',\n",
       "  'Data Analysis',\n",
       "  'Data Lake',\n",
       "  'Data Warehouse',\n",
       "  'MMX',\n",
       "  'CBD',\n",
       "  'Data Modeling',\n",
       "  'Data Profiling',\n",
       "  'Databricks',\n",
       "  'ETL tools',\n",
       "  'SQL',\n",
       "  'Python'],\n",
       " 'description': 'Design, develop, and program methods, processes, and systems to consolidate and analyze structured/unstructured diverse sources to generate actionable insights and solutions for client services and product enhancement; build products for analysis; interact with product and service teams to identify questions and issues for data analysis and experiments; develop and code software programs, algorithms and automated processes to cleanse, integrate, and evaluate large datasets from multiple disparate sources; identify meaningful insights from large data and metadata sources; interpret and communicate insights and findings from analysis and experiments to product, service, and business managers; lead others to solve complex problems; and anticipate customer needs.'}"
      ]
     },
     "execution_count": 51,
     "metadata": {},
     "output_type": "execute_result"
    }
   ],
   "source": [
    "job"
   ]
  },
  {
   "cell_type": "code",
   "execution_count": 52,
   "metadata": {},
   "outputs": [
    {
     "data": {
      "text/html": [
       "<div>\n",
       "<style scoped>\n",
       "    .dataframe tbody tr th:only-of-type {\n",
       "        vertical-align: middle;\n",
       "    }\n",
       "\n",
       "    .dataframe tbody tr th {\n",
       "        vertical-align: top;\n",
       "    }\n",
       "\n",
       "    .dataframe thead th {\n",
       "        text-align: right;\n",
       "    }\n",
       "</style>\n",
       "<table border=\"1\" class=\"dataframe\">\n",
       "  <thead>\n",
       "    <tr style=\"text-align: right;\">\n",
       "      <th></th>\n",
       "      <th>Techstack</th>\n",
       "      <th>Links</th>\n",
       "    </tr>\n",
       "  </thead>\n",
       "  <tbody>\n",
       "    <tr>\n",
       "      <th>0</th>\n",
       "      <td>React, Node.js, MongoDB</td>\n",
       "      <td>https://example.com/react-portfolio</td>\n",
       "    </tr>\n",
       "    <tr>\n",
       "      <th>1</th>\n",
       "      <td>Angular,.NET, SQL Server</td>\n",
       "      <td>https://example.com/angular-portfolio</td>\n",
       "    </tr>\n",
       "  </tbody>\n",
       "</table>\n",
       "</div>"
      ],
      "text/plain": [
       "                  Techstack                                  Links\n",
       "0   React, Node.js, MongoDB    https://example.com/react-portfolio\n",
       "1  Angular,.NET, SQL Server  https://example.com/angular-portfolio"
      ]
     },
     "execution_count": 52,
     "metadata": {},
     "output_type": "execute_result"
    }
   ],
   "source": [
    "import pandas as pd\n",
    "\n",
    "df = pd.read_csv(\"/Users/karananand/Cold-Email-Generator/my_portfolio.csv\")\n",
    "df.head(2)"
   ]
  },
  {
   "cell_type": "code",
   "execution_count": 53,
   "metadata": {},
   "outputs": [],
   "source": [
    "import uuid\n",
    "import chromadb\n",
    "\n",
    "client = chromadb.PersistentClient('vectorstore')\n",
    "collection = client.get_or_create_collection(name=\"portfolio\")\n",
    "\n",
    "if not collection.count():\n",
    "    for _, row in df.iterrows():\n",
    "        collection.add(documents=row[\"Techstack\"],\n",
    "                       metadatas={\"links\": row[\"Links\"]},\n",
    "                       ids=[str(uuid.uuid4())])"
   ]
  },
  {
   "cell_type": "code",
   "execution_count": 54,
   "metadata": {},
   "outputs": [],
   "source": [
    "# results = collection.query(\n",
    "#     query_texts=['Query is about Python'],\n",
    "#     n_results=2\n",
    "# )\n",
    "# results"
   ]
  },
  {
   "cell_type": "code",
   "execution_count": 55,
   "metadata": {},
   "outputs": [
    {
     "data": {
      "text/plain": [
       "[[{'links': 'https://example.com/android-tv-portfolio'},\n",
       "  {'links': 'https://example.com/ios-ar-portfolio'}],\n",
       " [{'links': 'https://example.com/ios-ar-portfolio'},\n",
       "  {'links': 'https://example.com/wordpress-portfolio'}],\n",
       " [{'links': 'https://example.com/ios-portfolio'},\n",
       "  {'links': 'https://example.com/flutter-portfolio'}],\n",
       " [{'links': 'https://example.com/ml-python-portfolio'},\n",
       "  {'links': 'https://example.com/ios-portfolio'}],\n",
       " [{'links': 'https://example.com/ios-portfolio'},\n",
       "  {'links': 'https://example.com/flutter-portfolio'}],\n",
       " [{'links': 'https://example.com/ml-python-portfolio'},\n",
       "  {'links': 'https://example.com/magento-portfolio'}],\n",
       " [{'links': 'https://example.com/ml-python-portfolio'},\n",
       "  {'links': 'https://example.com/android-portfolio'}],\n",
       " [{'links': 'https://example.com/flutter-portfolio'},\n",
       "  {'links': 'https://example.com/kotlin-android-portfolio'}],\n",
       " [{'links': 'https://example.com/ml-python-portfolio'},\n",
       "  {'links': 'https://example.com/magento-portfolio'}],\n",
       " [{'links': 'https://example.com/ml-python-portfolio'},\n",
       "  {'links': 'https://example.com/ios-portfolio'}],\n",
       " [{'links': 'https://example.com/flutter-portfolio'},\n",
       "  {'links': 'https://example.com/kotlin-android-portfolio'}],\n",
       " [{'links': 'https://example.com/ml-python-portfolio'},\n",
       "  {'links': 'https://example.com/magento-portfolio'}],\n",
       " [{'links': 'https://example.com/magento-portfolio'},\n",
       "  {'links': 'https://example.com/wordpress-portfolio'}],\n",
       " [{'links': 'https://example.com/ml-python-portfolio'},\n",
       "  {'links': 'https://example.com/python-portfolio'}]]"
      ]
     },
     "execution_count": 55,
     "metadata": {},
     "output_type": "execute_result"
    }
   ],
   "source": [
    "links = collection.query(query_texts=job['skills'], n_results=2).get('metadatas', [])\n",
    "links"
   ]
  },
  {
   "cell_type": "code",
   "execution_count": 56,
   "metadata": {},
   "outputs": [
    {
     "data": {
      "text/plain": [
       "\"{'role': 'Senior Data Analyst', 'experience': '2 years of experience in the job offered or in a data-related occupation', 'skills': ['Snowflake', 'AWS', 'Data governance', 'Data Analysis', 'Data Lake', 'Data Warehouse', 'MMX', 'CBD', 'Data Modeling', 'Data Profiling', 'Databricks', 'ETL tools', 'SQL', 'Python'], 'description': 'Design, develop, and program methods, processes, and systems to consolidate and analyze structured/unstructured diverse sources to generate actionable insights and solutions for client services and product enhancement; build products for analysis; interact with product and service teams to identify questions and issues for data analysis and experiments; develop and code software programs, algorithms and automated processes to cleanse, integrate, and evaluate large datasets from multiple disparate sources; identify meaningful insights from large data and metadata sources; interpret and communicate insights and findings from analysis and experiments to product, service, and business managers; lead others to solve complex problems; and anticipate customer needs.'}\""
      ]
     },
     "execution_count": 56,
     "metadata": {},
     "output_type": "execute_result"
    }
   ],
   "source": [
    "str(job)"
   ]
  },
  {
   "cell_type": "code",
   "execution_count": 57,
   "metadata": {},
   "outputs": [
    {
     "name": "stdout",
     "output_type": "stream",
     "text": [
      "Subject: Expert Data Analysis Solutions for Your Business Needs\n",
      "\n",
      "Dear Hiring Manager,\n",
      "\n",
      "I came across the Senior Data Analyst job description at your esteemed organization and was impressed by the role's focus on leveraging data analysis to drive business growth and product enhancement. As a Business Development Executive at AtliQ, I'd like to introduce our company's capabilities in providing tailored data analysis solutions that align with your requirements.\n",
      "\n",
      "AtliQ is an AI & Software Consulting company dedicated to facilitating the seamless integration of business processes through automated tools. Our team of experts has extensive experience in designing, developing, and programming methods, processes, and systems to consolidate and analyze structured/unstructured diverse sources. We've empowered numerous enterprises with scalable, optimized, and cost-effective solutions, resulting in heightened overall efficiency.\n",
      "\n",
      "Our expertise in data analysis, data governance, data modeling, and data profiling, combined with our proficiency in Snowflake, AWS, Databricks, ETL tools, SQL, and Python, makes us an ideal partner for your data analysis needs. We've developed and coded software programs, algorithms, and automated processes to cleanse, integrate, and evaluate large datasets from multiple disparate sources, identifying meaningful insights and communicating findings to stakeholders.\n",
      "\n",
      "To showcase our capabilities, I'd like to share some relevant portfolio links:\n",
      "\n",
      "* Machine Learning with Python: https://example.com/ml-python-portfolio\n",
      "* Data Analysis with Python: https://example.com/python-portfolio\n",
      "* Data Integration with AWS: https://example.com/aws-portfolio (not provided, but we have expertise in this area)\n",
      "\n",
      "Our team is committed to delivering high-quality solutions that meet your specific requirements. We'd be delighted to discuss how our expertise can support your business goals and provide a customized solution for your Senior Data Analyst role.\n",
      "\n",
      "Please feel free to contact me at your convenience to explore this opportunity further. I look forward to hearing from you soon.\n",
      "\n",
      "Best regards,\n",
      "\n",
      "Mohan\n",
      "Business Development Executive\n",
      "AtliQ\n"
     ]
    }
   ],
   "source": [
    "prompt_email = PromptTemplate.from_template(\n",
    "        \"\"\"\n",
    "        ### JOB DESCRIPTION:\n",
    "        {job_description}\n",
    "        \n",
    "        ### INSTRUCTION:\n",
    "        You are Mohan, a business development executive at AtliQ. AtliQ is an AI & Software Consulting company dedicated to facilitating\n",
    "        the seamless integration of business processes through automated tools. \n",
    "        Over our experience, we have empowered numerous enterprises with tailored solutions, fostering scalability, \n",
    "        process optimization, cost reduction, and heightened overall efficiency. \n",
    "        Your job is to write a cold email to the client regarding the job mentioned above describing the capability of AtliQ \n",
    "        in fulfilling their needs.\n",
    "        Also add the most relevant ones from the following links to showcase Atliq's portfolio: {link_list}\n",
    "        Remember you are Mohan, BDE at AtliQ. \n",
    "        Do not provide a preamble.\n",
    "        ### EMAIL (NO PREAMBLE):\n",
    "        \n",
    "        \"\"\"\n",
    "        )\n",
    "\n",
    "chain_email = prompt_email | llm\n",
    "res = chain_email.invoke({\"job_description\": str(job), \"link_list\": links})\n",
    "print(res.content)"
   ]
  },
  {
   "cell_type": "code",
   "execution_count": null,
   "metadata": {},
   "outputs": [],
   "source": []
  }
 ],
 "metadata": {
  "kernelspec": {
   "display_name": "Python 3.9.21 ('env': venv)",
   "language": "python",
   "name": "python3"
  },
  "language_info": {
   "codemirror_mode": {
    "name": "ipython",
    "version": 3
   },
   "file_extension": ".py",
   "mimetype": "text/x-python",
   "name": "python",
   "nbconvert_exporter": "python",
   "pygments_lexer": "ipython3",
   "version": "3.9.21"
  },
  "orig_nbformat": 4,
  "vscode": {
   "interpreter": {
    "hash": "08b96b9886a6875e7a93761ae590a64d6d83a4297ee70c61ffdefb5ebaba85f6"
   }
  }
 },
 "nbformat": 4,
 "nbformat_minor": 2
}
